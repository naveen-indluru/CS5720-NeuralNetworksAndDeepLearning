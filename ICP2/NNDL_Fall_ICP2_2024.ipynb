{
 "cells": [
  {
   "cell_type": "code",
   "execution_count": 1,
   "id": "ddbe1701-0925-4e08-b124-2e3b6cf1359d",
   "metadata": {},
   "outputs": [],
   "source": [
    "# Import Numpy Library\n",
    "import numpy as np"
   ]
  },
  {
   "cell_type": "markdown",
   "id": "1673ea7e-3b98-4222-9b71-af11964ebe3d",
   "metadata": {},
   "source": [
    "1.Create a class Employee and then do the following\r\n",
    "- • Create a data member to count the number of Employees\r\n",
    "- • Create a constructor to initialize name, family, salary, department\r\n",
    "- • Create a function to average salary\r\n",
    "- • Create a Fulltime Employee class and it should inherit the properties of Employee class\r\n",
    "- • Create the instances of Fulltime Employee class and Employee class and call their member functions.ions."
   ]
  },
  {
   "cell_type": "code",
   "execution_count": 9,
   "id": "74e287b5-fc64-49c6-b73d-e92131538a63",
   "metadata": {},
   "outputs": [
    {
     "name": "stdout",
     "output_type": "stream",
     "text": [
      "using employee class 62000.0\n",
      "using fulltime employee class 62000.0\n"
     ]
    }
   ],
   "source": [
    "# created class Employee\n",
    "class Employee():\n",
    "    # create data members to keep count of employee count and list of salaries\n",
    "    emp_count = 0\n",
    "    \n",
    "    # constructor to initilize the variables\n",
    "    def __init__(self,name,family,salary,department):\n",
    "        self.name = name,\n",
    "        self.family = family,\n",
    "        self.salary = salary,\n",
    "        self.department = department,\n",
    "        Employee.emp_count += 1\n",
    "    \n",
    "    # funtion to return average of salary\n",
    "    def avg_salary(employees:list):\n",
    "        # calculate salaries average\n",
    "        salaries_list = [emp.salary[0] for emp in employees]\n",
    "        # print(emp.salary[0] for emp in employees)\n",
    "        avg_sal = sum(salaries_list)/Employee.emp_count     # method 1 : generic\n",
    "        # avg_sal = np.mean(salaries_list)                      # method 2 : using numpy\n",
    "        return avg_sal\n",
    "    \n",
    "# created FullTimeEmployee class and inherit the properties from Employee class\n",
    "class FullTimeEmployee(Employee):\n",
    "    def __init__(self,name,family,salary,department):\n",
    "        # calling parent class constructor\n",
    "        super().__init__(name,family,salary,department)\n",
    "\n",
    "employees = []\n",
    "employees.append(Employee(\"Naveen\",\"Indluru\",40000,\"analytics\"))\n",
    "employees.append(Employee(\"Anvesh\",\"Kalikiri\",74000,\"CTO\"))\n",
    "\n",
    "employees.append(FullTimeEmployee(\"Naveen Reddy\",\"Indluru\",50000,\"data science\"))\n",
    "employees.append(FullTimeEmployee(\"Jagadeesh\",\"Kethu\",84000,\"data analytics\"))\n",
    "\n",
    "\n",
    "print(\"using employee class\",Employee.avg_salary(employees))\n",
    "print(\"using fulltime employee class\",FullTimeEmployee.avg_salary(employees))"
   ]
  },
  {
   "cell_type": "markdown",
   "id": "cfc5940f-a276-41af-889f-2ef082926b80",
   "metadata": {},
   "source": [
    "2. Using NumPy create random vector of size 20 having only float in the range 1-20.\n",
    "\n",
    "- Then reshape the array to 4 by 5\n",
    "- Then replace the max in each row by 0 (axis=1)\n",
    "\n",
    "(you can NOT implement it via for loop)"
   ]
  },
  {
   "cell_type": "code",
   "execution_count": 3,
   "id": "04036468-ab55-434b-9265-f0fddba53264",
   "metadata": {},
   "outputs": [],
   "source": [
    "arr = np.random.uniform(1,20,20) # created a random vector of size 20 in the range of 1 - 20.\n",
    "arr = arr.reshape(4,5) # reshaped the vector to array of (4,5) shape"
   ]
  },
  {
   "cell_type": "code",
   "execution_count": 4,
   "id": "cf33d00c-a297-4ad4-b5f2-81027c11234e",
   "metadata": {},
   "outputs": [
    {
     "name": "stdout",
     "output_type": "stream",
     "text": [
      "Array before :\n",
      "\n",
      " [[18.14317845  9.98967943  5.62396825 14.98742174 10.40461524]\n",
      " [11.37536677  1.23083579  8.83254936 12.15575555 14.80670628]\n",
      " [14.43273514 16.60053877 11.66523453 14.11921392 13.96043388]\n",
      " [13.29572942  9.40584639 10.23838828 18.15788719  2.28720703]]\n",
      "\n",
      "\n",
      "Array after replace the max element of each row with 1: \n",
      "\n",
      " [[ 1.          9.98967943  5.62396825 14.98742174 10.40461524]\n",
      " [11.37536677  1.23083579  8.83254936 12.15575555  1.        ]\n",
      " [14.43273514  1.         11.66523453 14.11921392 13.96043388]\n",
      " [13.29572942  9.40584639 10.23838828  1.          2.28720703]]\n"
     ]
    }
   ],
   "source": [
    "# Task : replace the max in each row by 0 (axis = 1)\n",
    "\n",
    "# print array before replacement\n",
    "print(\"Array before :\\n\\n\",arr,end=\"\\n\\n\\n\")\n",
    "\n",
    "# get max elements of each row and reshape it \n",
    "each_row_max = np.max(arr,axis = 1).reshape(-1,1)\n",
    "\n",
    "arr[arr == each_row_max] = 1\n",
    "\n",
    "# print array after replacement\n",
    "print(\"Array after replace the max element of each row with 1: \\n\\n\", arr)"
   ]
  },
  {
   "cell_type": "code",
   "execution_count": null,
   "id": "e81bfae7-3f5c-4dd2-b170-814f52c988c5",
   "metadata": {},
   "outputs": [],
   "source": []
  },
  {
   "cell_type": "code",
   "execution_count": null,
   "id": "0ed3e11e-55ea-4085-8883-5d900a4eaba3",
   "metadata": {},
   "outputs": [],
   "source": []
  }
 ],
 "metadata": {
  "kernelspec": {
   "display_name": "Python 3 (ipykernel)",
   "language": "python",
   "name": "python3"
  },
  "language_info": {
   "codemirror_mode": {
    "name": "ipython",
    "version": 3
   },
   "file_extension": ".py",
   "mimetype": "text/x-python",
   "name": "python",
   "nbconvert_exporter": "python",
   "pygments_lexer": "ipython3",
   "version": "3.11.7"
  }
 },
 "nbformat": 4,
 "nbformat_minor": 5
}
